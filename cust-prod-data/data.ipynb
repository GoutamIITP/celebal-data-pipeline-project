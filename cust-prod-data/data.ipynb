{
 "cells": [
  {
   "cell_type": "code",
   "execution_count": 1,
   "id": "3fbaac24",
   "metadata": {},
   "outputs": [
    {
     "name": "stdout",
     "output_type": "stream",
     "text": [
      "Requirement already satisfied: faker in c:\\users\\asus\\appdata\\local\\programs\\python\\python313\\lib\\site-packages (37.4.2)\n",
      "Requirement already satisfied: pandas in c:\\users\\asus\\appdata\\roaming\\python\\python313\\site-packages (2.2.3)\n",
      "Requirement already satisfied: tzdata in c:\\users\\asus\\appdata\\local\\programs\\python\\python313\\lib\\site-packages (from faker) (2025.2)\n",
      "Requirement already satisfied: numpy>=1.26.0 in c:\\users\\asus\\appdata\\local\\programs\\python\\python313\\lib\\site-packages (from pandas) (2.2.5)\n",
      "Requirement already satisfied: python-dateutil>=2.8.2 in c:\\users\\asus\\appdata\\local\\programs\\python\\python313\\lib\\site-packages (from pandas) (2.9.0.post0)\n",
      "Requirement already satisfied: pytz>=2020.1 in c:\\users\\asus\\appdata\\local\\programs\\python\\python313\\lib\\site-packages (from pandas) (2025.2)\n",
      "Requirement already satisfied: six>=1.5 in c:\\users\\asus\\appdata\\local\\programs\\python\\python313\\lib\\site-packages (from python-dateutil>=2.8.2->pandas) (1.17.0)\n"
     ]
    },
    {
     "name": "stderr",
     "output_type": "stream",
     "text": [
      "\n",
      "[notice] A new release of pip is available: 25.0.1 -> 25.1.1\n",
      "[notice] To update, run: python.exe -m pip install --upgrade pip\n"
     ]
    }
   ],
   "source": [
    "!pip install faker pandas"
   ]
  },
  {
   "cell_type": "code",
   "execution_count": 2,
   "id": "35aada99",
   "metadata": {},
   "outputs": [],
   "source": [
    "import pandas as pd\n",
    "from faker import Faker\n",
    "import random\n",
    "from datetime import datetime, timedelta\n",
    "\n",
    "fake = Faker()\n"
   ]
  },
  {
   "cell_type": "code",
   "execution_count": 3,
   "id": "44fc283e",
   "metadata": {},
   "outputs": [
    {
     "name": "stdout",
     "output_type": "stream",
     "text": [
      "Generated 800 customer records\n",
      "Sample customer data:\n",
      "   customer_id first_name   last_name                     email  \\\n",
      "0            1    Cynthia       Myers      ispencer@example.com   \n",
      "1            2    Katelyn  Harrington  barneslaurie@example.net   \n",
      "2            3      Laura     Johnson       ngarcia@example.com   \n",
      "3            4   Kimberly       Young      ljohnson@example.net   \n",
      "4            5  Katherine   Mcfarland    samantha92@example.com   \n",
      "\n",
      "             phone                                            address  \\\n",
      "0  +1-506-373-5673    24076 Joshua Lake Suite 925, Mayburgh, KY 72958   \n",
      "1    (642)984-7894         385 Fitzgerald Shoal, West Kayla, AK 24184   \n",
      "2  390.604.8962x49  437 Tiffany Land Apt. 381, West Robertafurt, M...   \n",
      "3  791.353.4633x46  3509 Wright Shoals Suite 204, Port Jonathanpor...   \n",
      "4  741.388.5250x95  480 Charles Prairie Apt. 263, West Brianfurt, ...   \n",
      "\n",
      "              city                    country  \n",
      "0     Deborahburgh                   Suriname  \n",
      "1        Lake Erin  Bouvet Island (Bouvetoya)  \n",
      "2    Butlerchester                 Martinique  \n",
      "3  North Peterland                    Somalia  \n",
      "4   West Juanhaven     Libyan Arab Jamahiriya  \n"
     ]
    }
   ],
   "source": [
    "def generate_customers(num_records=800):\n",
    "    customers = []\n",
    "    for i in range(1, num_records + 1):\n",
    "        customers.append({\n",
    "            'customer_id': i,\n",
    "            'first_name': fake.first_name(),\n",
    "            'last_name': fake.last_name(),\n",
    "            'email': fake.email(),\n",
    "            'phone': fake.phone_number()[:15],\n",
    "            'address': fake.address().replace('\\n', ', ')[:200],\n",
    "            'city': fake.city(),\n",
    "            'country': fake.country()\n",
    "        })\n",
    "    return customers\n",
    "\n",
    "customer_data = generate_customers(800)\n",
    "customer_df = pd.DataFrame(customer_data)\n",
    "\n",
    "print(f\"Generated {len(customer_df)} customer records\")\n",
    "print(\"Sample customer data:\")\n",
    "print(customer_df.head())"
   ]
  },
  {
   "cell_type": "code",
   "execution_count": 4,
   "id": "d4124176",
   "metadata": {},
   "outputs": [
    {
     "name": "stdout",
     "output_type": "stream",
     "text": [
      "Generated 1000 product records\n",
      "Sample product data:\n",
      "   product_id                         product_name    category   price  \\\n",
      "0           1        Cloned bi-directional circuit  Automotive  300.23   \n",
      "1           2  Monitored upward-trending groupware       Books  626.51   \n",
      "2           3         Advanced empowering leverage        Toys  396.81   \n",
      "3           4     Public-key bi-directional policy      Sports  223.71   \n",
      "4           5      Automated 6thgeneration product        Toys  762.94   \n",
      "\n",
      "   stock_quantity                      supplier  \n",
      "0             162                   Summers Ltd  \n",
      "1             251               Bishop and Sons  \n",
      "2             493      Owen, Simpson and Murray  \n",
      "3              76                  Turner-Evans  \n",
      "4             255  Tucker, Roberts and Gonzalez  \n"
     ]
    }
   ],
   "source": [
    "def generate_products(num_records=1000):\n",
    "    categories = ['Electronics', 'Clothing', 'Books', 'Home & Garden', 'Sports', 'Toys', 'Automotive']\n",
    "    products = []\n",
    "    for i in range(1, num_records + 1):\n",
    "        products.append({\n",
    "            'product_id': i,\n",
    "            'product_name': fake.catch_phrase()[:100],\n",
    "            'category': random.choice(categories),\n",
    "            'price': round(random.uniform(10.0, 999.99), 2),\n",
    "            'stock_quantity': random.randint(0, 500),\n",
    "            'supplier': fake.company()[:100]\n",
    " \n",
    "        })\n",
    "    return products\n",
    "\n",
    "product_data = generate_products(1000)\n",
    "product_df = pd.DataFrame(product_data)\n",
    "\n",
    "print(f\"Generated {len(product_df)} product records\")\n",
    "print(\"Sample product data:\")\n",
    "print(product_df.head())\n"
   ]
  },
  {
   "cell_type": "code",
   "execution_count": 5,
   "id": "3f9b87b3",
   "metadata": {},
   "outputs": [
    {
     "name": "stdout",
     "output_type": "stream",
     "text": [
      "Data saved to CSV files:\n",
      "- customer_data_final.csv\n",
      "- product_data_final.csv\n"
     ]
    }
   ],
   "source": [
    "customer_df.to_csv('customer_data_final.csv', index=False)\n",
    "product_df.to_csv('product_data_final.csv', index=False)\n",
    "\n",
    "print(\"Data saved to CSV files:\")\n",
    "print(\"- customer_data_final.csv\")\n",
    "print(\"- product_data_final.csv\")"
   ]
  },
  {
   "cell_type": "code",
   "execution_count": 6,
   "id": "46cf0b1b",
   "metadata": {},
   "outputs": [
    {
     "name": "stdout",
     "output_type": "stream",
     "text": [
      "<class 'pandas.core.frame.DataFrame'>\n",
      "RangeIndex: 800 entries, 0 to 799\n",
      "Data columns (total 8 columns):\n",
      " #   Column       Non-Null Count  Dtype \n",
      "---  ------       --------------  ----- \n",
      " 0   customer_id  800 non-null    int64 \n",
      " 1   first_name   800 non-null    object\n",
      " 2   last_name    800 non-null    object\n",
      " 3   email        800 non-null    object\n",
      " 4   phone        800 non-null    object\n",
      " 5   address      800 non-null    object\n",
      " 6   city         800 non-null    object\n",
      " 7   country      800 non-null    object\n",
      "dtypes: int64(1), object(7)\n",
      "memory usage: 50.1+ KB\n",
      "None\n",
      "<class 'pandas.core.frame.DataFrame'>\n",
      "RangeIndex: 1000 entries, 0 to 999\n",
      "Data columns (total 6 columns):\n",
      " #   Column          Non-Null Count  Dtype  \n",
      "---  ------          --------------  -----  \n",
      " 0   product_id      1000 non-null   int64  \n",
      " 1   product_name    1000 non-null   object \n",
      " 2   category        1000 non-null   object \n",
      " 3   price           1000 non-null   float64\n",
      " 4   stock_quantity  1000 non-null   int64  \n",
      " 5   supplier        1000 non-null   object \n",
      "dtypes: float64(1), int64(2), object(3)\n",
      "memory usage: 47.0+ KB\n",
      "None\n"
     ]
    }
   ],
   "source": [
    "print(customer_df.info())\n",
    "print(product_df.info())"
   ]
  }
 ],
 "metadata": {
  "kernelspec": {
   "display_name": "Python 3",
   "language": "python",
   "name": "python3"
  },
  "language_info": {
   "codemirror_mode": {
    "name": "ipython",
    "version": 3
   },
   "file_extension": ".py",
   "mimetype": "text/x-python",
   "name": "python",
   "nbconvert_exporter": "python",
   "pygments_lexer": "ipython3",
   "version": "3.13.3"
  }
 },
 "nbformat": 4,
 "nbformat_minor": 5
}
